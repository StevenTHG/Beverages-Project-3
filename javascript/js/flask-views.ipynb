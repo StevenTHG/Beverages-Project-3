{
 "cells": [
  {
   "cell_type": "code",
   "execution_count": 8,
   "metadata": {},
   "outputs": [],
   "source": [
    "from flask import Flask, redirect, url_for, render_template, send_from_directory"
   ]
  },
  {
   "cell_type": "code",
   "execution_count": 9,
   "metadata": {},
   "outputs": [],
   "source": [
    "app = Flask(__name__)"
   ]
  },
  {
   "cell_type": "code",
   "execution_count": 10,
   "metadata": {},
   "outputs": [],
   "source": [
    "@app.route(\"/home\")\n",
    "def home():\n",
    "    return render_template(\"home.html\")"
   ]
  },
  {
   "cell_type": "code",
   "execution_count": 11,
   "metadata": {},
   "outputs": [],
   "source": [
    "@app.route(\"/charts\")\n",
    "def charts():\n",
    "    return render_template(\"charts.html\")"
   ]
  },
  {
   "cell_type": "code",
   "execution_count": 12,
   "metadata": {},
   "outputs": [],
   "source": [
    "@app.route(\"/map\")\n",
    "def map():\n",
    "    return render_template(\"map.html\")"
   ]
  },
  {
   "cell_type": "code",
   "execution_count": 13,
   "metadata": {},
   "outputs": [],
   "source": [
    "@app.route(\"/sources\")\n",
    "def sources():\n",
    "    return render_template(\"sources.html\")"
   ]
  },
  {
   "cell_type": "code",
   "execution_count": 14,
   "metadata": {},
   "outputs": [
    {
     "name": "stdout",
     "output_type": "stream",
     "text": [
      " * Serving Flask app \"__main__\" (lazy loading)\n",
      " * Environment: production\n",
      "\u001b[31m   WARNING: This is a development server. Do not use it in a production deployment.\u001b[0m\n",
      "\u001b[2m   Use a production WSGI server instead.\u001b[0m\n",
      " * Debug mode: off\n"
     ]
    },
    {
     "name": "stderr",
     "output_type": "stream",
     "text": [
      " * Running on http://127.0.0.1:5000/ (Press CTRL+C to quit)\n",
      "127.0.0.1 - - [13/Feb/2023 10:49:57] \"GET / HTTP/1.1\" 404 -\n",
      "127.0.0.1 - - [13/Feb/2023 10:50:05] \"GET /home HTTP/1.1\" 200 -\n",
      "127.0.0.1 - - [13/Feb/2023 10:50:06] \"GET /static/home.css HTTP/1.1\" 200 -\n",
      "127.0.0.1 - - [13/Feb/2023 10:50:06] \"GET /static/anicollection.css HTTP/1.1\" 200 -\n",
      "127.0.0.1 - - [13/Feb/2023 10:50:06] \"GET /static/anijs-min.js HTTP/1.1\" 200 -\n",
      "127.0.0.1 - - [13/Feb/2023 10:50:06] \"GET /static/static/temperature-background.jpg HTTP/1.1\" 404 -\n",
      "127.0.0.1 - - [13/Feb/2023 10:50:17] \"GET /home.html HTTP/1.1\" 404 -\n",
      "127.0.0.1 - - [13/Feb/2023 10:50:27] \"GET / HTTP/1.1\" 404 -\n",
      "127.0.0.1 - - [13/Feb/2023 10:51:27] \"GET /home HTTP/1.1\" 200 -\n",
      "127.0.0.1 - - [13/Feb/2023 10:51:27] \"GET /static/static/temperature-background.jpg HTTP/1.1\" 404 -\n",
      "127.0.0.1 - - [13/Feb/2023 11:00:25] \"GET / HTTP/1.1\" 404 -\n"
     ]
    }
   ],
   "source": [
    "if __name__ == \"__main__\":\n",
    "    app.run()"
   ]
  }
 ],
 "metadata": {
  "kernelspec": {
   "display_name": "base",
   "language": "python",
   "name": "python3"
  },
  "language_info": {
   "codemirror_mode": {
    "name": "ipython",
    "version": 3
   },
   "file_extension": ".py",
   "mimetype": "text/x-python",
   "name": "python",
   "nbconvert_exporter": "python",
   "pygments_lexer": "ipython3",
   "version": "3.9.13"
  },
  "orig_nbformat": 4,
  "vscode": {
   "interpreter": {
    "hash": "a8e3450c47fd7c5f1546fa3e8cab157712ae6f8227aeba23951f00f267c4172b"
   }
  }
 },
 "nbformat": 4,
 "nbformat_minor": 2
}
