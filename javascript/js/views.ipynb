{
 "cells": [
  {
   "cell_type": "code",
   "execution_count": 77,
   "metadata": {},
   "outputs": [],
   "source": [
    "from flask import Flask, redirect, url_for, render_template, send_from_directory"
   ]
  },
  {
   "cell_type": "code",
   "execution_count": 78,
   "metadata": {},
   "outputs": [],
   "source": [
    "app = Flask(__name__)"
   ]
  },
  {
   "cell_type": "code",
   "execution_count": 79,
   "metadata": {},
   "outputs": [],
   "source": [
    "@app.route(\"/charts\")\n",
    "def home():\n",
    "    return render_template(\"charts.html\")"
   ]
  },
  {
   "cell_type": "code",
   "execution_count": 80,
   "metadata": {},
   "outputs": [
    {
     "ename": "AssertionError",
     "evalue": "View function mapping is overwriting an existing endpoint function: home",
     "output_type": "error",
     "traceback": [
      "\u001b[1;31m---------------------------------------------------------------------------\u001b[0m",
      "\u001b[1;31mAssertionError\u001b[0m                            Traceback (most recent call last)",
      "\u001b[1;32mc:\\Users\\roapa\\OneDrive\\Desktop\\Weather-Project-3\\javascript\\js\\views.ipynb Cell 4\u001b[0m in \u001b[0;36m<cell line: 1>\u001b[1;34m()\u001b[0m\n\u001b[0;32m      <a href='vscode-notebook-cell:/c%3A/Users/roapa/OneDrive/Desktop/Weather-Project-3/javascript/js/views.ipynb#X10sZmlsZQ%3D%3D?line=0'>1</a>\u001b[0m \u001b[39m@app\u001b[39;49m\u001b[39m.\u001b[39;49mroute(\u001b[39m\"\u001b[39;49m\u001b[39m/map\u001b[39;49m\u001b[39m\"\u001b[39;49m)\n\u001b[1;32m----> <a href='vscode-notebook-cell:/c%3A/Users/roapa/OneDrive/Desktop/Weather-Project-3/javascript/js/views.ipynb#X10sZmlsZQ%3D%3D?line=1'>2</a>\u001b[0m \u001b[39mdef\u001b[39;49;00m \u001b[39mhome\u001b[39;49m():\n\u001b[0;32m      <a href='vscode-notebook-cell:/c%3A/Users/roapa/OneDrive/Desktop/Weather-Project-3/javascript/js/views.ipynb#X10sZmlsZQ%3D%3D?line=2'>3</a>\u001b[0m     \u001b[39mreturn\u001b[39;49;00m render_template(\u001b[39m\"\u001b[39;49m\u001b[39mmap.html\u001b[39;49m\u001b[39m\"\u001b[39;49m)\n",
      "File \u001b[1;32mc:\\Users\\roapa\\anaconda3\\lib\\site-packages\\flask\\app.py:1315\u001b[0m, in \u001b[0;36mFlask.route.<locals>.decorator\u001b[1;34m(f)\u001b[0m\n\u001b[0;32m   1313\u001b[0m \u001b[39mdef\u001b[39;00m \u001b[39mdecorator\u001b[39m(f):\n\u001b[0;32m   1314\u001b[0m     endpoint \u001b[39m=\u001b[39m options\u001b[39m.\u001b[39mpop(\u001b[39m\"\u001b[39m\u001b[39mendpoint\u001b[39m\u001b[39m\"\u001b[39m, \u001b[39mNone\u001b[39;00m)\n\u001b[1;32m-> 1315\u001b[0m     \u001b[39mself\u001b[39m\u001b[39m.\u001b[39madd_url_rule(rule, endpoint, f, \u001b[39m*\u001b[39m\u001b[39m*\u001b[39moptions)\n\u001b[0;32m   1316\u001b[0m     \u001b[39mreturn\u001b[39;00m f\n",
      "File \u001b[1;32mc:\\Users\\roapa\\anaconda3\\lib\\site-packages\\flask\\app.py:98\u001b[0m, in \u001b[0;36msetupmethod.<locals>.wrapper_func\u001b[1;34m(self, *args, **kwargs)\u001b[0m\n\u001b[0;32m     88\u001b[0m \u001b[39mif\u001b[39;00m \u001b[39mself\u001b[39m\u001b[39m.\u001b[39mdebug \u001b[39mand\u001b[39;00m \u001b[39mself\u001b[39m\u001b[39m.\u001b[39m_got_first_request:\n\u001b[0;32m     89\u001b[0m     \u001b[39mraise\u001b[39;00m \u001b[39mAssertionError\u001b[39;00m(\n\u001b[0;32m     90\u001b[0m         \u001b[39m\"\u001b[39m\u001b[39mA setup function was called after the \u001b[39m\u001b[39m\"\u001b[39m\n\u001b[0;32m     91\u001b[0m         \u001b[39m\"\u001b[39m\u001b[39mfirst request was handled.  This usually indicates a bug \u001b[39m\u001b[39m\"\u001b[39m\n\u001b[1;32m   (...)\u001b[0m\n\u001b[0;32m     96\u001b[0m         \u001b[39m\"\u001b[39m\u001b[39mbefore the application starts serving requests.\u001b[39m\u001b[39m\"\u001b[39m\n\u001b[0;32m     97\u001b[0m     )\n\u001b[1;32m---> 98\u001b[0m \u001b[39mreturn\u001b[39;00m f(\u001b[39mself\u001b[39m, \u001b[39m*\u001b[39margs, \u001b[39m*\u001b[39m\u001b[39m*\u001b[39mkwargs)\n",
      "File \u001b[1;32mc:\\Users\\roapa\\anaconda3\\lib\\site-packages\\flask\\app.py:1282\u001b[0m, in \u001b[0;36mFlask.add_url_rule\u001b[1;34m(self, rule, endpoint, view_func, provide_automatic_options, **options)\u001b[0m\n\u001b[0;32m   1280\u001b[0m old_func \u001b[39m=\u001b[39m \u001b[39mself\u001b[39m\u001b[39m.\u001b[39mview_functions\u001b[39m.\u001b[39mget(endpoint)\n\u001b[0;32m   1281\u001b[0m \u001b[39mif\u001b[39;00m old_func \u001b[39mis\u001b[39;00m \u001b[39mnot\u001b[39;00m \u001b[39mNone\u001b[39;00m \u001b[39mand\u001b[39;00m old_func \u001b[39m!=\u001b[39m view_func:\n\u001b[1;32m-> 1282\u001b[0m     \u001b[39mraise\u001b[39;00m \u001b[39mAssertionError\u001b[39;00m(\n\u001b[0;32m   1283\u001b[0m         \u001b[39m\"\u001b[39m\u001b[39mView function mapping is overwriting an \u001b[39m\u001b[39m\"\u001b[39m\n\u001b[0;32m   1284\u001b[0m         \u001b[39m\"\u001b[39m\u001b[39mexisting endpoint function: \u001b[39m\u001b[39m%s\u001b[39;00m\u001b[39m\"\u001b[39m \u001b[39m%\u001b[39m endpoint\n\u001b[0;32m   1285\u001b[0m     )\n\u001b[0;32m   1286\u001b[0m \u001b[39mself\u001b[39m\u001b[39m.\u001b[39mview_functions[endpoint] \u001b[39m=\u001b[39m view_func\n",
      "\u001b[1;31mAssertionError\u001b[0m: View function mapping is overwriting an existing endpoint function: home"
     ]
    }
   ],
   "source": [
    "@app.route(\"/map\")\n",
    "def home():\n",
    "    return render_template(\"map.html\")"
   ]
  },
  {
   "cell_type": "code",
   "execution_count": null,
   "metadata": {},
   "outputs": [],
   "source": [
    "@app.route(\"/sources\")\n",
    "def home():\n",
    "    return render_template(\"sources.html\")"
   ]
  },
  {
   "cell_type": "code",
   "execution_count": null,
   "metadata": {},
   "outputs": [
    {
     "name": "stdout",
     "output_type": "stream",
     "text": [
      " * Serving Flask app \"__main__\" (lazy loading)\n",
      " * Environment: production\n",
      "\u001b[31m   WARNING: This is a development server. Do not use it in a production deployment.\u001b[0m\n",
      "\u001b[2m   Use a production WSGI server instead.\u001b[0m\n",
      " * Debug mode: off\n"
     ]
    },
    {
     "name": "stderr",
     "output_type": "stream",
     "text": [
      " * Running on http://127.0.0.1:5000/ (Press CTRL+C to quit)\n",
      "127.0.0.1 - - [12/Feb/2023 16:25:47] \"GET / HTTP/1.1\" 404 -\n",
      "127.0.0.1 - - [12/Feb/2023 16:25:52] \"GET /home HTTP/1.1\" 200 -\n",
      "127.0.0.1 - - [12/Feb/2023 16:25:59] \"GET /charts.html HTTP/1.1\" 404 -\n"
     ]
    }
   ],
   "source": [
    "if __name__ == \"__main__\":\n",
    "    app.run()"
   ]
  }
 ],
 "metadata": {
  "kernelspec": {
   "display_name": "base",
   "language": "python",
   "name": "python3"
  },
  "language_info": {
   "codemirror_mode": {
    "name": "ipython",
    "version": 3
   },
   "file_extension": ".py",
   "mimetype": "text/x-python",
   "name": "python",
   "nbconvert_exporter": "python",
   "pygments_lexer": "ipython3",
   "version": "3.9.12"
  },
  "orig_nbformat": 4,
  "vscode": {
   "interpreter": {
    "hash": "ae44298fc773fa72b274d4faf2819ac92496d747c5c214e275cafda8656e0662"
   }
  }
 },
 "nbformat": 4,
 "nbformat_minor": 2
}
