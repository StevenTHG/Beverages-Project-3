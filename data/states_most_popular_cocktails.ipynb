{
 "cells": [
  {
   "cell_type": "code",
   "execution_count": 3,
   "metadata": {},
   "outputs": [],
   "source": [
    "most_popular_cocktails = [\n",
    "    {\"state\": \"ALABAMA\",\"lat\":32.377716,\"long\":-86.300568,\"Cocktail\":\"Bushwacker\"},\n",
    "{\"state\": \"ALASKA\",\"lat\":58.301598,\"long\":-134.420212 ,\"Cocktail\":\"Tequila sunrise\"},\n",
    "{\"state\": \"ARIZONA\",\"lat\":33.448143 ,\"long\":-112.096962 ,\"Cocktail\":\"Manhattan\"},\n",
    "{\"state\": \"ARKANSAS\",\"lat\":34.746613 ,\"long\":-92.288986 ,\"Cocktail\":\"Margarita\"},\n",
    "{\"state\": \"CALIFORNIA\",\"lat\":38.576668 ,\"long\":-121.493629 ,\"Cocktail\":\"Mojito\"},\n",
    "{\"state\": \"COLORADO\",\"lat\":39.739227 ,\"long\":-104.984856 ,\"Cocktail\":\"Dark 'N' stormy\"},\n",
    "{\"state\": \"CONNECTICUT\",\"lat\":41.764046 ,\"long\":-72.682198 ,\"Cocktail\":\"Vodka martini\"},\n",
    "{\"state\": \"DELAWARE\",\"lat\":39.157307 ,\"long\":-75.519722 ,\"Cocktail\":\"Orange Crush\"},\n",
    "{\"state\": \"FLORIDA\",\"lat\":30.438118 ,\"long\":-84.281296 ,\"Cocktail\":\"Mojito\"},\n",
    "{\"state\": \"GEORGIA\",\"lat\":33.749027 ,\"long\":-84.388229 ,\"Cocktail\":\"Piña colada\"},\n",
    "{\"state\": \"HAWAII\",\"lat\":21.307442 ,\"long\":-157.857376 ,\"Cocktail\":\"Blue Hawaii\"},\n",
    "{\"state\": \"IDAHO\",\"lat\":43.617775,\"long\":-116.199722 ,\"Cocktail\":\"Mojito\"},\n",
    "{\"state\": \"ILLINOIS\",\"lat\":39.798363,\"long\":-89.654961 ,\"Cocktail\":\"Margarita\"},\n",
    "{\"state\": \"INDIANA\",\"lat\":39.768623 ,\"long\":-86.162643 ,\"Cocktail\":\"Mojito\"},\n",
    "{\"state\": \"IOWA\",\"lat\":41.591087 ,\"long\":-93.603729 ,\"Cocktail\":\"Tom Collins\"},\n",
    "{\"state\": \"KANSAS\",\"lat\":39.048191 ,\"long\":-95.677956 ,\"Cocktail\":\"Amaretto sour\"},\n",
    "{\"state\": \"KENTUCKY\",\"lat\":38.186722 ,\"long\":-84.875374 ,\"Cocktail\":\"Mint julep\"},\n",
    "{\"state\": \"LOUISIANA\",\"lat\":30.457069 ,\"long\":-91.187393 ,\"Cocktail\":\"Tom Collins\"},\n",
    "{\"state\": \"MAINE\",\"lat\":44.307167 ,\"long\":-69.781693 ,\"Cocktail\":\"Vodka martini\"},\n",
    "{\"state\": \"MARYLAND\",\"lat\":38.978764 ,\"long\":-76.490936 ,\"Cocktail\":\"Mai tai\"},\n",
    "{\"state\": \"MASSACHUSETTS\",\"lat\":42.358162 ,\"long\":-71.063698 ,\"Cocktail\":\"Sea breeze\"},\n",
    "{\"state\": \"MICHIGAN\",\"lat\":42.733635 ,\"long\":-84.555328 ,\"Cocktail\":\"7 and 7\"},\n",
    "{\"state\": \"MINNESOTA\",\"lat\":44.955097 ,\"long\":-93.102211 ,\"Cocktail\":\"Tom Collins\"},\n",
    "{\"state\": \"MISSISSIPPI\",\"lat\":32.303848 ,\"long\":-90.182106 ,\"Cocktail\":\"Tom Collins\"},\n",
    "{\"state\": \"MISSOURI\",\"lat\":38.579201 ,\"long\":-92.172935 ,\"Cocktail\":\"Mojito\"},\n",
    "{\"state\": \"MONTANA\",\"lat\":46.585709 ,\"long\":-112.018417 ,\"Cocktail\":\"Margarita\"},\n",
    "{\"state\": \"NEBRASKA\",\"lat\":40.808075 ,\"long\":-96.699654 ,\"Cocktail\":\"Mojito\"},\n",
    "{\"state\": \"NEVADA\",\"lat\":39.163914 ,\"long\":-119.766121 ,\"Cocktail\":\"Tom Collins\"},\n",
    "{\"state\": \"NEW HAMPSHIRE\",\"lat\":43.206898 ,\"long\":-71.537994 ,\"Cocktail\":\"Gin and tonic\"},\n",
    "{\"state\": \"NEW JERSEY\",\"lat\":40.220596 ,\"long\":-74.769913 ,\"Cocktail\":\"Long Island iced tea\"},\n",
    "{\"state\": \"NEW MEXICO\",\"lat\":35.68224 ,\"long\":-105.939728 ,\"Cocktail\":\"Margarita\"},\n",
    "{\"state\": \"NEW YORK\",\"lat\":42.652843 ,\"long\":-73.757874 ,\"Cocktail\":\"Tom Collins\"},\n",
    "{\"state\": \"NORTH CAROLINA\",\"lat\":35.78043 ,\"long\":-78.639099 ,\"Cocktail\":\"Vodka martini\"},\n",
    "{\"state\": \"NORTH DAKOTA\",\"lat\":46.82085 ,\"long\":-100.783318 ,\"Cocktail\":\"Sex on the beach\"},\n",
    "{\"state\": \"OHIO\",\"lat\":39.961346 ,\"long\":-82.999069 ,\"Cocktail\":\"Daiquiri\"},\n",
    "{\"state\": \"OKLAHOMA\",\"lat\":35.492207 ,\"long\":-97.503342 ,\"Cocktail\":\"Long Island iced tea\"},\n",
    "{\"state\": \"OREGON\",\"lat\":44.938461 ,\"long\":-123.030403 ,\"Cocktail\":\"Mojito\"},\n",
    "{\"state\": \"PENNSYLVANIA\",\"lat\":40.264378 ,\"long\":-76.883598 ,\"Cocktail\":\"Pimm's and lemonade\"},\n",
    "{\"state\": \"RHODE ISLAND\",\"lat\":41.830914 ,\"long\":-71.414963 ,\"Cocktail\":\"Vodka martini\"},\n",
    "{\"state\": \"SOUTH CAROLINA\",\"lat\":34.000343 ,\"long\":-81.033211 ,\"Cocktail\":\"Piña colada\"},\n",
    "{\"state\": \"SOUTH DAKOTA\",\"lat\":44.367031 ,\"long\":-100.346405 ,\"Cocktail\":\"Sex on the beach\"},\n",
    "{\"state\": \"TENNESSEE\",\"lat\":36.16581 ,\"long\":-86.784241 ,\"Cocktail\":\"Bushwacker\"},\n",
    "{\"state\": \"TEXAS\",\"lat\":30.27467 ,\"long\":-97.740349 ,\"Cocktail\":\"Mojito\"},\n",
    "{\"state\": \"UTAH\",\"lat\":40.777477 ,\"long\":-111.888237 ,\"Cocktail\":\"Margarita\"},\n",
    "{\"state\": \"VERMONT\",\"lat\":44.262436 ,\"long\":-72.580536 ,\"Cocktail\":\"Margarita\"},\n",
    "{\"state\": \"VIRGINIA\",\"lat\":37.538857 ,\"long\":-77.43364 ,\"Cocktail\":\"Dark 'N' stormy\"},\n",
    "{\"state\": \"WASHINGTON\",\"lat\":47.035805,\"long\":-122.905014 ,\"Cocktail\":\"Sea breeze\"},\n",
    "{\"state\": \"WEST VIRGINIA\",\"lat\":38.336246 ,\"long\":-81.612328 ,\"Cocktail\":\"Sex on the beach\"},\n",
    "{\"state\": \"WISCONSIN\",\"lat\":43.074684 ,\"long\":-89.384445 ,\"Cocktail\":\"Long Island iced tea\"},\n",
    "{\"state\": \"WYOMING\",\"lat\":41.140259 ,\"long\":-104.820236 ,\"Cocktail\":\"Whiskey sour\"}\n",
    "]\n",
    "\n",
    "\n"
   ]
  }
 ],
 "metadata": {
  "kernelspec": {
   "display_name": "base",
   "language": "python",
   "name": "python3"
  },
  "language_info": {
   "codemirror_mode": {
    "name": "ipython",
    "version": 3
   },
   "file_extension": ".py",
   "mimetype": "text/x-python",
   "name": "python",
   "nbconvert_exporter": "python",
   "pygments_lexer": "ipython3",
   "version": "3.9.12"
  },
  "orig_nbformat": 4,
  "vscode": {
   "interpreter": {
    "hash": "3f4da9ad29e059a40e4a65ef355beaf2f6b9d5f6b9e791e2b0a14c28b2ec070e"
   }
  }
 },
 "nbformat": 4,
 "nbformat_minor": 2
}
